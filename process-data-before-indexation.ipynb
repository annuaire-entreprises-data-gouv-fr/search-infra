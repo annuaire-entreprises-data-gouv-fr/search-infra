{
 "cells": [
  {
   "cell_type": "markdown",
   "metadata": {},
   "source": [
    "### Imports"
   ]
  },
  {
   "cell_type": "code",
   "execution_count": null,
   "metadata": {},
   "outputs": [],
   "source": [
    "import pandas as pd\n",
    "import glob\n",
    "import datetime\n",
    "import os, shutil\n",
    "import numpy as np\n",
    "import swifter\n",
    "import math\n",
    "import json\n",
    "import time\n",
    "from dask import dataframe as dd\n",
    "from psutil import virtual_memory\n",
    "import pprint"
   ]
  },
  {
   "cell_type": "code",
   "execution_count": null,
   "metadata": {
    "tags": []
   },
   "outputs": [],
   "source": [
    "def mem():\n",
    "    print(f'used memory : {round(virtual_memory()[3]/(1024*1024*1024)*10)/10}Go')"
   ]
  },
  {
   "cell_type": "code",
   "execution_count": null,
   "metadata": {},
   "outputs": [],
   "source": [
    "def stats(): \n",
    "    print(\"--- %s seconds ---\" % (time.time() - start_time))\n",
    "    mem()"
   ]
  },
  {
   "cell_type": "markdown",
   "metadata": {},
   "source": [
    "### Path set-up"
   ]
  },
  {
   "cell_type": "code",
   "execution_count": null,
   "metadata": {},
   "outputs": [],
   "source": [
    "if \"DATA_DIR\" not in locals():\n",
    "    DATA_DIR = \"./data/\"\n",
    "else:\n",
    "    print(DATA_DIR)\n",
    "\n",
    "if os.path.exists(DATA_DIR) and os.path.isdir(DATA_DIR):\n",
    "    shutil.rmtree(DATA_DIR)\n",
    "os.makedirs(os.path.dirname(DATA_DIR), exist_ok=True)"
   ]
  },
  {
   "cell_type": "code",
   "execution_count": null,
   "metadata": {},
   "outputs": [],
   "source": [
    "if \"OUTPUT_DATA_FOLDER\" not in locals():\n",
    "    OUTPUT_DATA_FOLDER = \"./output/\"\n",
    "else:\n",
    "    print(OUTPUT_DATA_FOLDER)\n",
    "\n",
    "if os.path.exists(OUTPUT_DATA_FOLDER) and os.path.isdir(OUTPUT_DATA_FOLDER):\n",
    "    shutil.rmtree(OUTPUT_DATA_FOLDER)\n",
    "os.makedirs(os.path.dirname(OUTPUT_DATA_FOLDER), exist_ok=True)"
   ]
  },
  {
   "cell_type": "code",
   "execution_count": null,
   "metadata": {},
   "outputs": [],
   "source": [
    "if \"LABELS_FOLDER\" not in locals():\n",
    "    LABELS_FOLDER = \"./labels/\"\n",
    "else:\n",
    "    print(LABELS_FOLDER)"
   ]
  },
  {
   "cell_type": "code",
   "execution_count": null,
   "metadata": {},
   "outputs": [],
   "source": [
    "if \"ELASTIC_INDEX\" not in locals():\n",
    "    ELASTIC_INDEX = \"siren\"\n",
    "else:\n",
    "    print(ELASTIC_INDEX)"
   ]
  },
  {
   "cell_type": "markdown",
   "metadata": {},
   "source": [
    "# Établissement"
   ]
  },
  {
   "cell_type": "code",
   "execution_count": null,
   "metadata": {},
   "outputs": [],
   "source": [
    "# Create list of departement zip codes\n",
    "all_deps = [\n",
    "    *\"-0\".join(list(str(x) for x in range(0, 10))).split(\"-\")[1:],\n",
    "    *list(str(x) for x in range(10, 20)),\n",
    "    *[\"2A\", \"2B\"],\n",
    "    *list(str(x) for x in range(21, 96)),\n",
    "    *\"-7510\".join(list(str(x) for x in range(0, 10))).split(\"-\")[1:],\n",
    "    *\"-751\".join(list(str(x) for x in range(10, 21))).split(\"-\")[1:],\n",
    "    *[\"971\", \"972\", \"973\", \"974\", \"976\"],\n",
    "    *[\"\"],\n",
    "]\n",
    "# Remove Paris zip code\n",
    "all_deps.remove(\"75\")"
   ]
  },
  {
   "cell_type": "code",
   "execution_count": null,
   "metadata": {},
   "outputs": [],
   "source": [
    "# all_deps = [\"23\"]"
   ]
  },
  {
   "cell_type": "code",
   "execution_count": null,
   "metadata": {},
   "outputs": [],
   "source": [
    "%%time\n",
    "# Upload geo data by departement\n",
    "\n",
    "# we can reduce this to only the download time by scrapping pandas entirey and only saving csv on disk\n",
    "# I didnot do it as it requires to rewrite column names\n",
    "# should save ~ 4~5min\n",
    "\n",
    "for dep in all_deps:\n",
    "    start_time = time.time()\n",
    "    url = \"https://files.data.gouv.fr/geo-sirene/last/dep/geo_siret_\" + dep + \".csv.gz\"\n",
    "    print(url)\n",
    "    df_dep = pd.read_csv(\n",
    "        url,\n",
    "        compression=\"gzip\",\n",
    "        dtype=str,\n",
    "        usecols=[\n",
    "            \"siren\",\n",
    "            \"siret\",\n",
    "            \"dateCreationEtablissement\",\n",
    "            \"trancheEffectifsEtablissement\",\n",
    "            \"activitePrincipaleRegistreMetiersEtablissement\",\n",
    "            \"etablissementSiege\",\n",
    "            \"numeroVoieEtablissement\",\n",
    "            \"libelleVoieEtablissement\",\n",
    "            \"codePostalEtablissement\",\n",
    "            \"libelleCommuneEtablissement\",\n",
    "            \"libelleCedexEtablissement\",\n",
    "            \"typeVoieEtablissement\",\n",
    "            \"codeCommuneEtablissement\",\n",
    "            \"codeCedexEtablissement\",\n",
    "            \"complementAdresseEtablissement\",\n",
    "            \"distributionSpecialeEtablissement\",\n",
    "            \"complementAdresse2Etablissement\",\n",
    "            \"indiceRepetition2Etablissement\",\n",
    "            \"libelleCedex2Etablissement\",\n",
    "            \"codeCedex2Etablissement\",\n",
    "            \"numeroVoie2Etablissement\",\n",
    "            \"typeVoie2Etablissement\",\n",
    "            \"libelleVoie2Etablissement\",\n",
    "            \"codeCommune2Etablissement\",\n",
    "            \"libelleCommune2Etablissement\",\n",
    "            \"distributionSpeciale2Etablissement\",\n",
    "            \"dateDebut\",\n",
    "            \"etatAdministratifEtablissement\",\n",
    "            \"enseigne1Etablissement\",\n",
    "            \"enseigne1Etablissement\",\n",
    "            \"enseigne2Etablissement\",\n",
    "            \"enseigne3Etablissement\",\n",
    "            \"denominationUsuelleEtablissement\",\n",
    "            \"activitePrincipaleEtablissement\",\n",
    "            \"geo_adresse\",\n",
    "            \"geo_id\",\n",
    "            \"longitude\",\n",
    "            \"latitude\",\n",
    "            \"indiceRepetitionEtablissement\",\n",
    "            \"libelleCommuneEtrangerEtablissement\",\n",
    "            \"codePaysEtrangerEtablissement\",\n",
    "            \"libellePaysEtrangerEtablissement\",\n",
    "            \"libelleCommuneEtranger2Etablissement\",\n",
    "            \"codePaysEtranger2Etablissement\",\n",
    "            \"libellePaysEtranger2Etablissement\",\n",
    "        ],\n",
    "    )\n",
    "    df_dep = df_dep.rename(\n",
    "        columns={\n",
    "            \"dateCreationEtablissement\": \"date_creation\",\n",
    "            \"trancheEffectifsEtablissement\": \"tranche_effectif_salarie\",\n",
    "            \"activitePrincipaleRegistreMetiersEtablissement\": \"activite_principale_registre_metier\",\n",
    "            \"etablissementSiege\": \"is_siege\",\n",
    "            \"numeroVoieEtablissement\": \"numero_voie\",\n",
    "            \"typeVoieEtablissement\": \"type_voie\",\n",
    "            \"libelleVoieEtablissement\": \"libelle_voie\",\n",
    "            \"codePostalEtablissement\": \"code_postal\",\n",
    "            \"libelleCedexEtablissement\": \"libelle_cedex\",\n",
    "            \"libelleCommuneEtablissement\": \"libelle_commune\",\n",
    "            \"codeCommuneEtablissement\": \"commune\",\n",
    "            \"complementAdresseEtablissement\": \"complement_adresse\",\n",
    "            \"complementAdresse2Etablissement\": \"complement_adresse_2\",\n",
    "            \"numeroVoie2Etablissement\": \"numero_voie_2\",\n",
    "            \"indiceRepetition2Etablissement\": \"indice_repetition_2\",\n",
    "            \"typeVoie2Etablissement\": \"type_voie_2\",\n",
    "            \"libelleVoie2Etablissement\": \"libelle_voie_2\",\n",
    "            \"codeCommune2Etablissement\": \"commune_2\",\n",
    "            \"libelleCommune2Etablissement\": \"libelle_commune_2\",\n",
    "            \"codeCedex2Etablissement\": \"cedex_2\",\n",
    "            \"libelleCedex2Etablissement\": \"libelle_cedex_2\",\n",
    "            \"codeCedexEtablissement\": \"cedex\",\n",
    "            \"dateDebut\": \"date_debut_activite\",\n",
    "            \"distributionSpecialeEtablissement\": \"distribution_speciale\",\n",
    "            \"distributionSpeciale2Etablissement\": \"distribution_speciale_2\",\n",
    "            \"etatAdministratifEtablissement\": \"etat_administratif_etablissement\",\n",
    "            \"enseigne1Etablissement\": \"enseigne_1\",\n",
    "            \"enseigne2Etablissement\": \"enseigne_2\",\n",
    "            \"enseigne3Etablissement\": \"enseigne_3\",\n",
    "            \"activitePrincipaleEtablissement\": \"activite_principale\",\n",
    "            \"indiceRepetitionEtablissement\": \"indice_repetition\",\n",
    "            \"denominationUsuelleEtablissement\": \"nom_commercial\",\n",
    "            \"libelleCommuneEtrangerEtablissement\": \"libelle_commune_etranger\",\n",
    "            \"codePaysEtrangerEtablissement\": \"code_pays_etranger\",\n",
    "            \"libellePaysEtrangerEtablissement\": \"libelle_pays_etranger\",\n",
    "            \"libelleCommuneEtranger2Etablissement\": \"libelle_commune_etranger_2\",\n",
    "            \"codePaysEtranger2Etablissement\": \"code_pays_etranger_2\",\n",
    "            \"libellePaysEtranger2Etablissement\": \"libelle_pays_etranger_2\",\n",
    "        }\n",
    "    )\n",
    "    df_dep.to_csv(DATA_DIR + \"geo_siret_\" + dep + \".csv\", index=False)\n",
    "    stats()"
   ]
  },
  {
   "cell_type": "code",
   "execution_count": null,
   "metadata": {},
   "outputs": [],
   "source": [
    "# Get geo data file paths\n",
    "geo_files = glob.glob(DATA_DIR + \"geo_siret*.csv\")"
   ]
  },
  {
   "cell_type": "code",
   "execution_count": null,
   "metadata": {},
   "outputs": [],
   "source": [
    "# Does not take into consideration adress 2\n",
    "def adresse_complete(cols, row, adresse_2=False):\n",
    "    def get(x, default=None): \n",
    "        val = row[cols[x]]\n",
    "        if not val:\n",
    "            return default\n",
    "        return val\n",
    "    \n",
    "    col_list = [\"complement_adresse\", \"numero_voie\", \"indice_repetition\", \"type_voie\", \"libelle_voie\", \"distribution_speciale\"]\n",
    "    adresse = \"\"\n",
    "    for column in col_list:\n",
    "        col_label = f\"{column}_2\" if adresse_2 else column\n",
    "        \n",
    "        adresse = adresse + (\" \" + str(get(col_label)) if get(col_label) else \"\")\n",
    "    if not adresse_2:\n",
    "        if get(\"cedex\") is None:\n",
    "            if get(\"commune\") is None:\n",
    "                adresse =  adresse\n",
    "            else:\n",
    "                adresse = adresse + \" \" + str(get(\"commune\")) + \" \" + str(get(\"libelle_commune\"))\n",
    "        else:\n",
    "            adresse = adresse + \" \" + str(get(\"cedex\")) + \" \" + str(get(\"libelle_cedex\"))\n",
    "        etranger_list = [\"libelle_commune_etranger\", \"libelle_pays_etranger\"]\n",
    "        for column in etranger_list:\n",
    "            adresse = adresse + (\" \" + str(get(column)) if get(column) else \"\")\n",
    "        return adresse.strip()\n",
    "    else:\n",
    "        if get(\"cedex_2\") is None:\n",
    "            if get(\"commune_2\") is None:\n",
    "                adresse =  adresse\n",
    "            else:\n",
    "                adresse = adresse + \" \" + str(get(\"commune_2\")) + \" \" + str(get(\"libelle_commune_2\"))\n",
    "        else:\n",
    "            adresse = adresse + \" \" + str(get(\"cedex_2\")) + \" \" + str(get(\"libelle_cedex_2\"))\n",
    "        etranger_list = [\"libelle_commune_etranger_2\", \"libelle_pays_etranger_2\"]\n",
    "        for column in etranger_list:\n",
    "            adresse = adresse + (\" \" + str(get(column)) if get(column) else \"\")\n",
    "        return adresse.strip()"
   ]
  },
  {
   "cell_type": "code",
   "execution_count": null,
   "metadata": {},
   "outputs": [],
   "source": [
    "def get_key(k, dictio, default=0):\n",
    "    if(k in dictio):\n",
    "        return dictio[k]\n",
    "    return default"
   ]
  },
  {
   "cell_type": "code",
   "execution_count": null,
   "metadata": {},
   "outputs": [],
   "source": [
    "def parse_etab(cols, row, all_unite_legale, index):\n",
    "    def get(x, default=None): \n",
    "        val = row[cols[x]]\n",
    "        if not val:\n",
    "            return default\n",
    "        return val\n",
    "\n",
    "    siren = get('siren')\n",
    "\n",
    "    unite_legale = get_key(siren, all_unite_legale, {})\n",
    "\n",
    "    etablissement = {}\n",
    "    siret = get(\"siret\")\n",
    "    etablissement[\"enseigne\"] = \" \".join([\n",
    "                        get(\"enseigne_1\", \"\"),\n",
    "                        get(\"enseigne_2\", \"\"),\n",
    "                        get(\"enseigne_3\", \"\"),\n",
    "                        get(\"nom_commercial\", \"\"),\n",
    "                    ]).strip() or None\n",
    "    etablissement[\"adresse_complete\"] = adresse_complete(cols, row)\n",
    "    etablissement[\"adresse_complete_2\"] = adresse_complete(cols, row, adresse_2=True)\n",
    "    # etablissement[\"adresse\"] = get(\"geo_adresse\") # do we use this or adresse_complete ??\n",
    "    col_list = [\"siret\", \"is_siege\", \"etat_administratif_etablissement\", \"date_creation\", \"tranche_effectif_salarie\", \"date_debut_activite\", \"activite_principale\" ,\n",
    "                 \"numero_voie\", \"type_voie\", \"libelle_voie\", \"distribution_speciale\", \"cedex\", \"libelle_cedex\", \"commune\", \"libelle_commune\", \"code_pays_etranger\",\n",
    "                 \"code_postal\", \"geo_id\", \"longitude\", \"latitude\", \"activite_principale_registre_metier\"]\n",
    "    for col in col_list:\n",
    "        etablissement[col] = get(col)\n",
    "    etablissement[\"departement\"] = str(etablissement[\"commune\"])[:3] if str(etablissement[\"commune\"])[:2]== \"97\" else (None if etablissement[\"commune\"] is None else str(etablissement[\"commune\"])[:2])\n",
    "    etablissement[\"coordonnees\"] = None if (etablissement[\"longitude\"] is None) or (etablissement[\"latitude\"] is None) else f'{etablissement[\"latitude\"]},{etablissement[\"longitude\"]}'\n",
    "    \n",
    "    \n",
    "    # etablissements only has one etab\n",
    "    if \"etablissements\" not in unite_legale:\n",
    "        unite_legale[\"etablissements\"]= {}\n",
    "    unite_legale[\"etablissements\"][siret] = etablissement\n",
    "    unite_legale[\"nombre_etablissements\"] = get_key(\"nombre_etablissements\", unite_legale, 0) + 1\n",
    "    \n",
    "    # adresse complete au niveau de l'établissement et pas l'unité légale\n",
    "    '''\n",
    "    if is_siege:\n",
    "        etablissement[\"adresse_complete\"] = adresse_complete(cols, row)\n",
    "        etablissement[\"adresse_complete_2\"] = adresse_complete(cols, row, adresse_2=True)\n",
    "    '''\n",
    "    is_etablissement_ouvert = etablissement[\"etat_administratif_etablissement\"] == \"A\"\n",
    "    \n",
    "    \n",
    "    if is_etablissement_ouvert: \n",
    "        unite_legale[\"nombre_etablissements_ouverts\"] = get_key(\"nombre_etablissements_ouverts\", unite_legale, 0) + 1\n",
    "    else:\n",
    "        unite_legale[\"nombre_etablissements_ouverts\"] = get_key(\"nombre_etablissements_ouverts\", unite_legale, 0)\n",
    "        \n",
    "    \n",
    "    all_unite_legale[siren] = unite_legale\n",
    "    \n",
    "#    if(index % 10000 == 0):\n",
    "#        print(unite_legale)"
   ]
  },
  {
   "cell_type": "code",
   "execution_count": null,
   "metadata": {},
   "outputs": [],
   "source": [
    "%%time\n",
    "from csv import reader\n",
    "\n",
    "all_unite_legale = {}\n",
    "\n",
    "for geo_file in geo_files:\n",
    "    cols = {}\n",
    "    with open(geo_file, 'r') as read_obj:\n",
    "        # pass the file object to reader() to get the reader object\n",
    "        csv_reader = reader(read_obj)\n",
    "        # Iterate over each row in the csv using reader object\n",
    "        for index, row in enumerate(csv_reader):\n",
    "            if(index==0):\n",
    "                cols = { val: index for (index, val) in enumerate(row)}\n",
    "            else:\n",
    "                parse_etab(cols, row, all_unite_legale, index)\n",
    "            if(index % 1000000 == 0):\n",
    "                mem()"
   ]
  },
  {
   "cell_type": "code",
   "execution_count": null,
   "metadata": {},
   "outputs": [],
   "source": [
    "for unite_legale in all_unite_legale.values():\n",
    "    unite_legale[\"liste_enseigne\"] = list(filter(None, set(etab[\"enseigne\"] for etab in unite_legale[\"etablissements\"].values())))\n",
    "    unite_legale[\"liste_adresse\"] = list(filter(None, set(etab[\"adresse_complete\"] for etab in unite_legale[\"etablissements\"].values())))\n",
    "    unite_legale[\"concat_enseigne_adresse\"] = unite_legale[\"liste_enseigne\"] + unite_legale[\"liste_adresse\"]"
   ]
  },
  {
   "cell_type": "code",
   "execution_count": null,
   "metadata": {
    "tags": []
   },
   "outputs": [],
   "source": [
    "pprint.pprint(list(all_unite_legale.values())[0:5])"
   ]
  },
  {
   "cell_type": "code",
   "execution_count": null,
   "metadata": {},
   "outputs": [],
   "source": [
    "len(all_unite_legale)"
   ]
  },
  {
   "cell_type": "code",
   "execution_count": null,
   "metadata": {},
   "outputs": [],
   "source": [
    "for siren,unite_legale in all_unite_legale.copy().items():\n",
    "    for siret, etablissement in unite_legale[\"etablissements\"].copy().items():\n",
    "        if etablissement[\"is_siege\"] == \"false\":\n",
    "            del unite_legale[\"etablissements\"][siret]"
   ]
  },
  {
   "cell_type": "code",
   "execution_count": null,
   "metadata": {},
   "outputs": [],
   "source": [
    "pprint.pprint(list(all_unite_legale.values())[0:5])"
   ]
  },
  {
   "cell_type": "markdown",
   "metadata": {},
   "source": [
    "# Unité Légale"
   ]
  },
  {
   "cell_type": "code",
   "execution_count": null,
   "metadata": {},
   "outputs": [],
   "source": [
    "from os.path import exists\n",
    "\n",
    "unite_file = DATA_DIR + \"unite_legales.csv\"\n",
    "\n",
    "unite_legale_file_exists = exists(unite_file)"
   ]
  },
  {
   "cell_type": "code",
   "execution_count": null,
   "metadata": {
    "tags": []
   },
   "outputs": [],
   "source": [
    "%%time\n",
    "\n",
    "# Import Stock Unite Legale data\n",
    "\n",
    "# same a etablissement we can reduce this to only the download time by scrapping pandas entirey and only saving csv on disk\n",
    "# I didnot do it as it requires to rewrite column names\n",
    "# should save ~1-2min\n",
    "\n",
    "if not unite_legale_file_exists:\n",
    "    start_time = time.time()\n",
    "    chunk = pd.read_csv(\n",
    "        \"https://files.data.gouv.fr/insee-sirene/StockUniteLegale_utf8.zip\",\n",
    "        compression=\"zip\",\n",
    "        dtype=str,\n",
    "        chunksize=100000,\n",
    "        usecols=[\n",
    "            \"siren\",\n",
    "            \"dateCreationUniteLegale\",\n",
    "            \"sigleUniteLegale\",\n",
    "            \"prenom1UniteLegale\",\n",
    "            \"identifiantAssociationUniteLegale\",\n",
    "            \"trancheEffectifsUniteLegale\",\n",
    "            \"dateDernierTraitementUniteLegale\",\n",
    "            \"categorieEntreprise\",\n",
    "            \"etatAdministratifUniteLegale\",\n",
    "            \"nomUniteLegale\",\n",
    "            \"nomUsageUniteLegale\",\n",
    "            \"denominationUniteLegale\",\n",
    "            \"categorieJuridiqueUniteLegale\",\n",
    "            \"activitePrincipaleUniteLegale\",\n",
    "            \"economieSocialeSolidaireUniteLegale\",\n",
    "        ],\n",
    "    )\n",
    "    # Rename columns\n",
    "    df_unite_legale = pd.concat(chunk)\n",
    "    df_unite_legale = df_unite_legale.rename(\n",
    "        columns={\n",
    "            \"dateCreationUniteLegale\": \"date_creation_unite_legale\",\n",
    "            \"sigleUniteLegale\": \"sigle\",\n",
    "            \"prenom1UniteLegale\": \"prenom\",\n",
    "            \"trancheEffectifsUniteLegale\": \"tranche_effectif_salarie_unite_legale\",\n",
    "            \"dateDernierTraitementUniteLegale\": \"date_mise_a_jour_unite_legale\",\n",
    "            \"categorieEntreprise\": \"categorie_entreprise\",\n",
    "            \"etatAdministratifUniteLegale\":\"etat_administratif_unite_legale\",\n",
    "            \"nomUniteLegale\": \"nom\",\n",
    "            \"nomUsageUniteLegale\": \"nom_usage\",\n",
    "            \"denominationUniteLegale\": \"nom_raison_sociale\",\n",
    "            \"categorieJuridiqueUniteLegale\": \"nature_juridique_unite_legale\",\n",
    "            \"activitePrincipaleUniteLegale\": \"activite_principale_unite_legale\",\n",
    "            \"economieSocialeSolidaireUniteLegale\":\"economie_sociale_solidaire_unite_legale\",\n",
    "            \"identifiantAssociationUniteLegale\":\"identifiant_association_unite_legale\",\n",
    "        }\n",
    "    )\n",
    "    df_unite_legale.to_csv(unite_file, index=False)\n",
    "    stats()"
   ]
  },
  {
   "cell_type": "code",
   "execution_count": null,
   "metadata": {},
   "outputs": [],
   "source": [
    "df_unite_legale.head()"
   ]
  },
  {
   "cell_type": "markdown",
   "metadata": {},
   "source": [
    "\n",
    "### Data preprocessing"
   ]
  },
  {
   "cell_type": "code",
   "execution_count": null,
   "metadata": {
    "tags": []
   },
   "outputs": [],
   "source": [
    "sections_NAF = {\n",
    "\"01\":\"A\",\"02\":\"A\",\"03\":\"A\",\"05\":\"B\",\"06\":\"B\",\"07\":\"B\",\"08\":\"B\",\"09\":\"B\",\"10\":\"C\",\"11\":\"C\",\"12\":\"C\",\"13\":\"C\",\"14\":\"C\",\n",
    " \"15\":\"C\",\"16\":\"C\",\"17\":\"C\",\"18\":\"C\",\"19\":\"C\",\"20\":\"C\",\"21\":\"C\",\"22\":\"C\",\"23\":\"C\",\"24\":\"C\",\"25\":\"C\",\"26\":\"C\",\"27\":\"C\",\n",
    " \"28\":\"C\",\"29\":\"C\",\"30\":\"C\",\"31\":\"C\",\"32\":\"C\",\"33\":\"C\",\"35\":\"D\",\"36\":\"E\",\"37\":\"E\",\"38\":\"E\",\"39\":\"E\",\"41\":\"F\",\"42\":\"F\",\n",
    " \"43\":\"F\",\"45\":\"G\",\"46\":\"G\",\"47\":\"G\",\"49\":\"H\",\"50\":\"H\",\"51\":\"H\",\"52\":\"H\",\"53\":\"H\",\"55\":\"I\",\"56\":\"I\",\"58\":\"J\",\"59\":\"J\",\n",
    " \"60\":\"J\",\"61\":\"J\",\"62\":\"J\",\"63\":\"J\",\"64\":\"K\",\"65\":\"K\",\"66\":\"K\",\"68\":\"L\",\"69\":\"M\",\"70\":\"M\",\"71\":\"M\",\"72\":\"M\",\"73\":\"M\",\n",
    " \"74\":\"M\",\"75\":\"M\",\"77\":\"N\",\"78\":\"N\",\"79\":\"N\",\"80\":\"N\",\"81\":\"N\",\"82\":\"N\",\"84\":\"O\",\"85\":\"P\",\"86\":\"Q\",\"87\":\"Q\",\"88\":\"Q\",\n",
    " \"90\":\"R\",\"91\":\"R\",\"92\":\"R\",\"93\":\"R\",\"94\":\"S\",\"95\":\"S\",\"96\":\"S\",\"97\":\"T\",\"98\":\"T\",\"99\":\"U\"\n",
    "}"
   ]
  },
  {
   "cell_type": "code",
   "execution_count": null,
   "metadata": {},
   "outputs": [],
   "source": [
    "def nom_complet(cols, row):\n",
    "    def get(x, default=None): \n",
    "        val = row[cols[x]]\n",
    "        if not val:\n",
    "            return default\n",
    "        return val\n",
    "    \n",
    "    is_auto_entrepreneur = get(\"nature_juridique_unite_legale\") == \"1000\"\n",
    "    \n",
    "    sigle = get(\"sigle\")\n",
    "    \n",
    "    if is_auto_entrepreneur:\n",
    "        prenom = get(\"prenom\")\n",
    "        nom = get(\"nom\")\n",
    "        nom_usage = get(\"nom_usage\", \" \")\n",
    "        formatted_nom_usage = \" \" + nom_usage.lower() if nom_usage else \"\"\n",
    "        formatted_sigle = \", \"+ sigle if sigle else \"\"\n",
    "        \n",
    "        if (prenom is None and nom is None):\n",
    "            return None\n",
    "        else:\n",
    "            return f'{prenom}{formatted_nom_usage} ({nom}{formatted_sigle})'.lower()\n",
    "    else:\n",
    "        nom_raison_sociale = get(\"nom_raison_sociale\")\n",
    "        \n",
    "        if nom_raison_sociale is None and sigle is None:\n",
    "            return None\n",
    "        else:\n",
    "            formatted_sigle = f' ({sigle})' if sigle else \"\"\n",
    "            return f'{nom_raison_sociale}{formatted_sigle}'.lower()"
   ]
  },
  {
   "cell_type": "code",
   "execution_count": null,
   "metadata": {},
   "outputs": [],
   "source": [
    "def parse_unite(cols, row, all_unite_legale, index):\n",
    "    def get(x, default=None): \n",
    "        val = row[cols[x]]\n",
    "        if not val:\n",
    "            return default\n",
    "        return val\n",
    "    start_time = time.time()\n",
    "\n",
    "    siren = get('siren')\n",
    "    unite_legale = get_key(siren, all_unite_legale, {})\n",
    "\n",
    "    \n",
    "    unite_legale[\"nom_complet\"] = nom_complet(cols, row)\n",
    "    col_list = [\"date_creation_unite_legale\", \"sigle\", \"prenom\", \"tranche_effectif_salarie_unite_legale\", \"date_mise_a_jour_unite_legale\", \"categorie_entreprise\",\n",
    "                \"etat_administratif_unite_legale\", \"nom\", \"nom_usage\", \"nom_raison_sociale\", \"nature_juridique_unite_legale\", \"activite_principale_unite_legale\",\n",
    "                \"economie_sociale_solidaire_unite_legale\", \"identifiant_association_unite_legale\"]\n",
    "    \n",
    "    for col in col_list:\n",
    "        unite_legale[col] = get(col)\n",
    "\n",
    "    activite_principale_unite_legale = get(\"activite_principale_unite_legale\", '')\n",
    "    code_naf = activite_principale_unite_legale[:2]\n",
    "    unite_legale[\"section_activite_principale\"] = sections_NAF[code_naf] if code_naf in sections_NAF else None\n",
    "    unite_legale[\"is_entrepreneur_individuel\"] = True if unite_legale[\"nature_juridique_unite_legale\"] in ['1', '10', '1000'] else False\n",
    "    \n",
    "    # unite_legale[\"concat_nom_adr_siren\"] = \" \".join(filter(None, [unite_legale[\"nom_complet\"], (\" \".join(unite_legale[\"liste_adresse\"]).strip()), siren]))\n",
    "\n",
    "    all_unite_legale[siren] = unite_legale\n",
    "    \n",
    "    if(index % 5000000 == 0):\n",
    "        stats()\n",
    "        print(index)"
   ]
  },
  {
   "cell_type": "code",
   "execution_count": null,
   "metadata": {},
   "outputs": [],
   "source": [
    "%%time\n",
    "\n",
    "with open(unite_file, 'r') as read_obj:\n",
    "    cols = {}\n",
    "    # pass the file object to reader() to get the reader object\n",
    "    csv_reader = reader(read_obj)\n",
    "    # Iterate over each row in the csv using reader object\n",
    "    for index, row in enumerate(csv_reader):\n",
    "        if(index==0):\n",
    "            cols = { val: index for (index, val) in enumerate(row)}\n",
    "        else:\n",
    "            parse_unite(cols, row, all_unite_legale, index)"
   ]
  },
  {
   "cell_type": "markdown",
   "metadata": {
    "tags": []
   },
   "source": [
    "start_time = time.time()\n",
    "for siren, unite_legale in all_unite_legale.items():\n",
    "    unite_legale[\"concat_nom_adr_siren\"] = filter(None, unite_legale[\"nom_complet\"] + (\" \".join(unite_legale[\"liste_adresse\"]).strip()) + siren) if (unite_legale[\"nom_complet\"] not None) else (\" \".join(unite_legale[\"liste_adresse\"]).strip()) + siren \n",
    "stats()\n",
    "start_time = time.time()\n",
    "for siren, unite_legale in all_unite_legale.items():\n",
    "    unite_legale[\"concat_nom_adr_siren\"] = \" \".join(filter(None, [unite_legale[\"nom_complet\"], (\" \".join(unite_legale[\"liste_adresse\"]).strip()), siren]))\n",
    "stats()"
   ]
  },
  {
   "cell_type": "code",
   "execution_count": null,
   "metadata": {
    "tags": []
   },
   "outputs": [],
   "source": [
    "pprint.pprint(list(all_unite_legale.values())[0:5])"
   ]
  },
  {
   "cell_type": "code",
   "execution_count": null,
   "metadata": {},
   "outputs": [],
   "source": [
    "len(all_unite_legale)"
   ]
  },
  {
   "cell_type": "code",
   "execution_count": null,
   "metadata": {},
   "outputs": [],
   "source": [
    "# test = pd.DataFrame.from_dict(all_unite_legale)"
   ]
  },
  {
   "cell_type": "code",
   "execution_count": null,
   "metadata": {},
   "outputs": [],
   "source": [
    "# test.head(5)"
   ]
  }
 ],
 "metadata": {
  "interpreter": {
   "hash": "19ece5f74f8baf7d074e990d308e7c75b7ac8b98c7c6e76faedd0c3526d006f2"
  },
  "kernelspec": {
   "display_name": "Python 3 (ipykernel)",
   "language": "python",
   "name": "python3"
  },
  "language_info": {
   "codemirror_mode": {
    "name": "ipython",
    "version": 3
   },
   "file_extension": ".py",
   "mimetype": "text/x-python",
   "name": "python",
   "nbconvert_exporter": "python",
   "pygments_lexer": "ipython3",
   "version": "3.9.7"
  }
 },
 "nbformat": 4,
 "nbformat_minor": 4
}
