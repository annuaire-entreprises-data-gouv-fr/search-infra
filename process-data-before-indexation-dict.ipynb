{
 "cells": [
  {
   "cell_type": "markdown",
   "metadata": {},
   "source": [
    "### Imports"
   ]
  },
  {
   "cell_type": "code",
   "execution_count": 91,
   "metadata": {},
   "outputs": [],
   "source": [
    "import pandas as pd\n",
    "import glob\n",
    "import datetime\n",
    "import os, shutil\n",
    "import numpy as np\n",
    "import swifter\n",
    "import math\n",
    "import json"
   ]
  },
  {
   "cell_type": "markdown",
   "metadata": {},
   "source": [
    "### Path set-up"
   ]
  },
  {
   "cell_type": "code",
   "execution_count": 92,
   "metadata": {},
   "outputs": [
    {
     "name": "stdout",
     "output_type": "stream",
     "text": [
      "./data/\n"
     ]
    }
   ],
   "source": [
    "if \"DATA_DIR\" not in locals():\n",
    "    DATA_DIR = \"./data/\"\n",
    "else:\n",
    "    print(DATA_DIR)\n",
    "\n",
    "if os.path.exists(DATA_DIR) and os.path.isdir(DATA_DIR):\n",
    "    shutil.rmtree(DATA_DIR)\n",
    "os.makedirs(os.path.dirname(DATA_DIR), exist_ok=True)"
   ]
  },
  {
   "cell_type": "code",
   "execution_count": 93,
   "metadata": {},
   "outputs": [
    {
     "name": "stdout",
     "output_type": "stream",
     "text": [
      "./output/\n"
     ]
    }
   ],
   "source": [
    "if \"OUTPUT_DATA_FOLDER\" not in locals():\n",
    "    OUTPUT_DATA_FOLDER = \"./output/\"\n",
    "else:\n",
    "    print(OUTPUT_DATA_FOLDER)\n",
    "\n",
    "if os.path.exists(OUTPUT_DATA_FOLDER) and os.path.isdir(OUTPUT_DATA_FOLDER):\n",
    "    shutil.rmtree(OUTPUT_DATA_FOLDER)\n",
    "os.makedirs(os.path.dirname(OUTPUT_DATA_FOLDER), exist_ok=True)"
   ]
  },
  {
   "cell_type": "code",
   "execution_count": 94,
   "metadata": {},
   "outputs": [
    {
     "name": "stdout",
     "output_type": "stream",
     "text": [
      "./labels/\n"
     ]
    }
   ],
   "source": [
    "if \"LABELS_FOLDER\" not in locals():\n",
    "    LABELS_FOLDER = \"./labels/\"\n",
    "else:\n",
    "    print(LABELS_FOLDER)"
   ]
  },
  {
   "cell_type": "code",
   "execution_count": 95,
   "metadata": {},
   "outputs": [
    {
     "name": "stdout",
     "output_type": "stream",
     "text": [
      "siren\n"
     ]
    }
   ],
   "source": [
    "if \"ELASTIC_INDEX\" not in locals():\n",
    "    ELASTIC_INDEX = \"siren\"\n",
    "else:\n",
    "    print(ELASTIC_INDEX)"
   ]
  },
  {
   "cell_type": "markdown",
   "metadata": {},
   "source": [
    "# Établissement"
   ]
  },
  {
   "cell_type": "code",
   "execution_count": 96,
   "metadata": {},
   "outputs": [],
   "source": [
    "# Create list of departement zip codes\n",
    "all_deps = [\n",
    "    *\"-0\".join(list(str(x) for x in range(0, 10))).split(\"-\")[1:],\n",
    "    *list(str(x) for x in range(10, 20)),\n",
    "    *[\"2A\", \"2B\"],\n",
    "    *list(str(x) for x in range(21, 96)),\n",
    "    *\"-7510\".join(list(str(x) for x in range(0, 10))).split(\"-\")[1:],\n",
    "    *\"-751\".join(list(str(x) for x in range(10, 21))).split(\"-\")[1:],\n",
    "    *[\"971\", \"972\", \"973\", \"974\", \"976\"],\n",
    "    *[\"\"],\n",
    "]\n",
    "# Remove Paris zip code\n",
    "all_deps.remove(\"75\")"
   ]
  },
  {
   "cell_type": "code",
   "execution_count": 97,
   "metadata": {},
   "outputs": [],
   "source": [
    "#all_deps = [\"23\", \"69\"]"
   ]
  },
  {
   "cell_type": "code",
   "execution_count": 98,
   "metadata": {},
   "outputs": [],
   "source": [
    "import time\n",
    "start_time = time.time()"
   ]
  },
  {
   "cell_type": "code",
   "execution_count": 99,
   "metadata": {},
   "outputs": [],
   "source": [
    "from psutil import virtual_memory\n",
    "\n",
    "def mem():\n",
    "    print(f'used memory : {round(virtual_memory()[3]/(1024*1024*1024)*10)/10}Go')"
   ]
  },
  {
   "cell_type": "code",
   "execution_count": 100,
   "metadata": {},
   "outputs": [],
   "source": [
    "def stats(): \n",
    "    print(\"--- %s seconds ---\" % (time.time() - start_time))\n",
    "    mem()"
   ]
  },
  {
   "cell_type": "code",
   "execution_count": null,
   "metadata": {},
   "outputs": [
    {
     "name": "stdout",
     "output_type": "stream",
     "text": [
      "--- 0.3817572593688965 seconds ---\n",
      "used memory : 4.9Go\n",
      "https://files.data.gouv.fr/geo-sirene/last/dep/geo_siret_01.csv.gz\n",
      "--- 8.914906024932861 seconds ---\n",
      "used memory : 4.8Go\n",
      "https://files.data.gouv.fr/geo-sirene/last/dep/geo_siret_02.csv.gz\n",
      "--- 13.169343948364258 seconds ---\n",
      "used memory : 4.8Go\n",
      "https://files.data.gouv.fr/geo-sirene/last/dep/geo_siret_03.csv.gz\n",
      "--- 16.420730113983154 seconds ---\n",
      "used memory : 4.8Go\n",
      "https://files.data.gouv.fr/geo-sirene/last/dep/geo_siret_04.csv.gz\n",
      "--- 19.047084093093872 seconds ---\n",
      "used memory : 4.9Go\n",
      "https://files.data.gouv.fr/geo-sirene/last/dep/geo_siret_05.csv.gz\n",
      "--- 21.360645055770874 seconds ---\n",
      "used memory : 4.9Go\n",
      "https://files.data.gouv.fr/geo-sirene/last/dep/geo_siret_06.csv.gz\n",
      "--- 37.93453621864319 seconds ---\n",
      "used memory : 4.7Go\n",
      "https://files.data.gouv.fr/geo-sirene/last/dep/geo_siret_07.csv.gz\n",
      "--- 41.40235209465027 seconds ---\n",
      "used memory : 4.7Go\n",
      "https://files.data.gouv.fr/geo-sirene/last/dep/geo_siret_08.csv.gz\n",
      "--- 43.67071294784546 seconds ---\n",
      "used memory : 4.8Go\n",
      "https://files.data.gouv.fr/geo-sirene/last/dep/geo_siret_09.csv.gz\n",
      "--- 45.589277267456055 seconds ---\n",
      "used memory : 4.9Go\n",
      "https://files.data.gouv.fr/geo-sirene/last/dep/geo_siret_10.csv.gz\n",
      "--- 48.4686598777771 seconds ---\n",
      "used memory : 4.8Go\n",
      "https://files.data.gouv.fr/geo-sirene/last/dep/geo_siret_11.csv.gz\n",
      "--- 53.063668966293335 seconds ---\n",
      "used memory : 5.0Go\n",
      "https://files.data.gouv.fr/geo-sirene/last/dep/geo_siret_12.csv.gz\n",
      "--- 56.216368198394775 seconds ---\n",
      "used memory : 4.9Go\n",
      "https://files.data.gouv.fr/geo-sirene/last/dep/geo_siret_13.csv.gz\n",
      "--- 80.06398296356201 seconds ---\n",
      "used memory : 4.7Go\n",
      "https://files.data.gouv.fr/geo-sirene/last/dep/geo_siret_14.csv.gz\n",
      "--- 86.79683089256287 seconds ---\n",
      "used memory : 4.7Go\n",
      "https://files.data.gouv.fr/geo-sirene/last/dep/geo_siret_15.csv.gz\n",
      "--- 88.8885018825531 seconds ---\n",
      "used memory : 4.9Go\n",
      "https://files.data.gouv.fr/geo-sirene/last/dep/geo_siret_16.csv.gz\n",
      "--- 93.76674199104309 seconds ---\n",
      "used memory : 4.8Go\n",
      "https://files.data.gouv.fr/geo-sirene/last/dep/geo_siret_17.csv.gz\n",
      "--- 101.65544605255127 seconds ---\n",
      "used memory : 4.8Go\n",
      "https://files.data.gouv.fr/geo-sirene/last/dep/geo_siret_18.csv.gz\n",
      "--- 106.55370426177979 seconds ---\n",
      "used memory : 4.8Go\n",
      "https://files.data.gouv.fr/geo-sirene/last/dep/geo_siret_19.csv.gz\n",
      "--- 109.43148303031921 seconds ---\n",
      "used memory : 4.8Go\n",
      "https://files.data.gouv.fr/geo-sirene/last/dep/geo_siret_2A.csv.gz\n",
      "--- 111.61683702468872 seconds ---\n",
      "used memory : 4.9Go\n",
      "https://files.data.gouv.fr/geo-sirene/last/dep/geo_siret_2B.csv.gz\n",
      "--- 113.83223700523376 seconds ---\n",
      "used memory : 4.8Go\n",
      "https://files.data.gouv.fr/geo-sirene/last/dep/geo_siret_21.csv.gz\n",
      "--- 118.65052008628845 seconds ---\n",
      "used memory : 4.8Go\n",
      "https://files.data.gouv.fr/geo-sirene/last/dep/geo_siret_22.csv.gz\n",
      "--- 124.61914014816284 seconds ---\n",
      "used memory : 4.8Go\n",
      "https://files.data.gouv.fr/geo-sirene/last/dep/geo_siret_23.csv.gz\n",
      "--- 126.06424498558044 seconds ---\n",
      "used memory : 4.8Go\n",
      "https://files.data.gouv.fr/geo-sirene/last/dep/geo_siret_24.csv.gz\n",
      "--- 130.92830896377563 seconds ---\n",
      "used memory : 4.8Go\n",
      "https://files.data.gouv.fr/geo-sirene/last/dep/geo_siret_25.csv.gz\n",
      "--- 135.50838708877563 seconds ---\n",
      "used memory : 4.7Go\n",
      "https://files.data.gouv.fr/geo-sirene/last/dep/geo_siret_26.csv.gz\n",
      "--- 146.8793909549713 seconds ---\n",
      "used memory : 4.7Go\n",
      "https://files.data.gouv.fr/geo-sirene/last/dep/geo_siret_27.csv.gz\n",
      "--- 154.17080307006836 seconds ---\n",
      "used memory : 4.7Go\n",
      "https://files.data.gouv.fr/geo-sirene/last/dep/geo_siret_28.csv.gz\n",
      "--- 160.24566006660461 seconds ---\n",
      "used memory : 4.7Go\n",
      "https://files.data.gouv.fr/geo-sirene/last/dep/geo_siret_29.csv.gz\n",
      "--- 172.32508993148804 seconds ---\n",
      "used memory : 4.7Go\n",
      "https://files.data.gouv.fr/geo-sirene/last/dep/geo_siret_30.csv.gz\n",
      "--- 182.7206802368164 seconds ---\n",
      "used memory : 4.6Go\n",
      "https://files.data.gouv.fr/geo-sirene/last/dep/geo_siret_31.csv.gz\n",
      "--- 201.59733200073242 seconds ---\n",
      "used memory : 4.7Go\n",
      "https://files.data.gouv.fr/geo-sirene/last/dep/geo_siret_32.csv.gz\n",
      "--- 205.78526711463928 seconds ---\n",
      "used memory : 4.6Go\n",
      "https://files.data.gouv.fr/geo-sirene/last/dep/geo_siret_33.csv.gz\n",
      "--- 233.03556203842163 seconds ---\n",
      "used memory : 4.7Go\n",
      "https://files.data.gouv.fr/geo-sirene/last/dep/geo_siret_34.csv.gz\n",
      "--- 253.58887815475464 seconds ---\n",
      "used memory : 4.6Go\n",
      "https://files.data.gouv.fr/geo-sirene/last/dep/geo_siret_35.csv.gz\n",
      "--- 263.06095719337463 seconds ---\n",
      "used memory : 4.6Go\n",
      "https://files.data.gouv.fr/geo-sirene/last/dep/geo_siret_36.csv.gz\n",
      "--- 265.48496985435486 seconds ---\n",
      "used memory : 4.5Go\n",
      "https://files.data.gouv.fr/geo-sirene/last/dep/geo_siret_37.csv.gz\n",
      "--- 271.2080991268158 seconds ---\n",
      "used memory : 4.7Go\n",
      "https://files.data.gouv.fr/geo-sirene/last/dep/geo_siret_38.csv.gz\n",
      "--- 284.6589300632477 seconds ---\n",
      "used memory : 4.6Go\n",
      "https://files.data.gouv.fr/geo-sirene/last/dep/geo_siret_39.csv.gz\n",
      "--- 287.5811471939087 seconds ---\n",
      "used memory : 4.6Go\n",
      "https://files.data.gouv.fr/geo-sirene/last/dep/geo_siret_40.csv.gz\n",
      "--- 292.27907395362854 seconds ---\n",
      "used memory : 4.7Go\n",
      "https://files.data.gouv.fr/geo-sirene/last/dep/geo_siret_41.csv.gz\n",
      "--- 295.2631459236145 seconds ---\n",
      "used memory : 4.7Go\n",
      "https://files.data.gouv.fr/geo-sirene/last/dep/geo_siret_42.csv.gz\n",
      "--- 302.3178701400757 seconds ---\n",
      "used memory : 4.6Go\n",
      "https://files.data.gouv.fr/geo-sirene/last/dep/geo_siret_43.csv.gz\n",
      "--- 304.84687399864197 seconds ---\n",
      "used memory : 4.6Go\n",
      "https://files.data.gouv.fr/geo-sirene/last/dep/geo_siret_44.csv.gz\n",
      "--- 319.1057572364807 seconds ---\n",
      "used memory : 4.6Go\n",
      "https://files.data.gouv.fr/geo-sirene/last/dep/geo_siret_45.csv.gz\n",
      "--- 325.0629460811615 seconds ---\n",
      "used memory : 4.6Go\n",
      "https://files.data.gouv.fr/geo-sirene/last/dep/geo_siret_46.csv.gz\n",
      "--- 327.70411014556885 seconds ---\n",
      "used memory : 4.6Go\n",
      "https://files.data.gouv.fr/geo-sirene/last/dep/geo_siret_47.csv.gz\n",
      "--- 331.7796320915222 seconds ---\n",
      "used memory : 4.7Go\n",
      "https://files.data.gouv.fr/geo-sirene/last/dep/geo_siret_48.csv.gz\n",
      "--- 333.0400290489197 seconds ---\n",
      "used memory : 4.7Go\n",
      "https://files.data.gouv.fr/geo-sirene/last/dep/geo_siret_49.csv.gz\n",
      "--- 341.21585988998413 seconds ---\n",
      "used memory : 4.7Go\n",
      "https://files.data.gouv.fr/geo-sirene/last/dep/geo_siret_50.csv.gz\n",
      "--- 345.97548508644104 seconds ---\n",
      "used memory : 4.7Go\n",
      "https://files.data.gouv.fr/geo-sirene/last/dep/geo_siret_51.csv.gz\n",
      "--- 351.98572516441345 seconds ---\n",
      "used memory : 4.6Go\n",
      "https://files.data.gouv.fr/geo-sirene/last/dep/geo_siret_52.csv.gz\n",
      "--- 354.1661009788513 seconds ---\n",
      "used memory : 4.8Go\n",
      "https://files.data.gouv.fr/geo-sirene/last/dep/geo_siret_53.csv.gz\n",
      "--- 357.9476799964905 seconds ---\n",
      "used memory : 4.7Go\n",
      "https://files.data.gouv.fr/geo-sirene/last/dep/geo_siret_54.csv.gz\n",
      "--- 364.9865400791168 seconds ---\n",
      "used memory : 4.7Go\n",
      "https://files.data.gouv.fr/geo-sirene/last/dep/geo_siret_55.csv.gz\n",
      "--- 367.92170000076294 seconds ---\n",
      "used memory : 4.7Go\n",
      "https://files.data.gouv.fr/geo-sirene/last/dep/geo_siret_56.csv.gz\n",
      "--- 376.20135283470154 seconds ---\n",
      "used memory : 4.6Go\n",
      "https://files.data.gouv.fr/geo-sirene/last/dep/geo_siret_57.csv.gz\n",
      "--- 384.8581759929657 seconds ---\n",
      "used memory : 4.7Go\n",
      "https://files.data.gouv.fr/geo-sirene/last/dep/geo_siret_58.csv.gz\n",
      "--- 387.12480306625366 seconds ---\n",
      "used memory : 4.7Go\n",
      "https://files.data.gouv.fr/geo-sirene/last/dep/geo_siret_59.csv.gz\n",
      "--- 407.50402998924255 seconds ---\n",
      "used memory : 4.7Go\n",
      "https://files.data.gouv.fr/geo-sirene/last/dep/geo_siret_60.csv.gz\n"
     ]
    }
   ],
   "source": [
    "%%time\n",
    "# Upload geo data by departement\n",
    "\n",
    "# we can reduce this to only the download time by scrapping pandas entirey and only saving csv on disk\n",
    "# I didnot do it as it requires to rewrite column names\n",
    "# should save ~ 4~5min\n",
    "\n",
    "for dep in all_deps:\n",
    "    stats()\n",
    "    url = \"https://files.data.gouv.fr/geo-sirene/last/dep/geo_siret_\" + dep + \".csv.gz\"\n",
    "    print(url)\n",
    "    df_dep = pd.read_csv(\n",
    "        url,\n",
    "        compression=\"gzip\",\n",
    "        dtype=str,\n",
    "        usecols=[\n",
    "            \"siren\",\n",
    "            \"siret\",\n",
    "            \"dateCreationEtablissement\",\n",
    "            \"trancheEffectifsEtablissement\",\n",
    "            \"activitePrincipaleRegistreMetiersEtablissement\",\n",
    "            \"etablissementSiege\",\n",
    "            \"numeroVoieEtablissement\",\n",
    "            \"libelleVoieEtablissement\",\n",
    "            \"codePostalEtablissement\",\n",
    "            \"libelleCommuneEtablissement\",\n",
    "            \"libelleCedexEtablissement\",\n",
    "            \"typeVoieEtablissement\",\n",
    "            \"codeCommuneEtablissement\",\n",
    "            \"codeCedexEtablissement\",\n",
    "            \"complementAdresseEtablissement\",\n",
    "            \"distributionSpecialeEtablissement\",\n",
    "            \"complementAdresse2Etablissement\",\n",
    "            \"indiceRepetition2Etablissement\",\n",
    "            \"libelleCedex2Etablissement\",\n",
    "            \"codeCedex2Etablissement\",\n",
    "            \"numeroVoie2Etablissement\",\n",
    "            \"typeVoie2Etablissement\",\n",
    "            \"libelleVoie2Etablissement\",\n",
    "            \"codeCommune2Etablissement\",\n",
    "            \"libelleCommune2Etablissement\",\n",
    "            \"distributionSpeciale2Etablissement\",\n",
    "            \"dateDebut\",\n",
    "            \"etatAdministratifEtablissement\",\n",
    "            \"enseigne1Etablissement\",\n",
    "            \"enseigne1Etablissement\",\n",
    "            \"enseigne2Etablissement\",\n",
    "            \"enseigne3Etablissement\",\n",
    "            \"denominationUsuelleEtablissement\",\n",
    "            \"activitePrincipaleEtablissement\",\n",
    "            \"geo_adresse\",\n",
    "            \"geo_id\",\n",
    "            \"longitude\",\n",
    "            \"latitude\",\n",
    "            \"indiceRepetitionEtablissement\",\n",
    "            \"libelleCommuneEtrangerEtablissement\",\n",
    "            \"codePaysEtrangerEtablissement\",\n",
    "            \"libellePaysEtrangerEtablissement\",\n",
    "            \"libelleCommuneEtranger2Etablissement\",\n",
    "            \"codePaysEtranger2Etablissement\",\n",
    "            \"libellePaysEtranger2Etablissement\",\n",
    "        ],\n",
    "    )\n",
    "    df_dep = df_dep.rename(\n",
    "        columns={\n",
    "            \"dateCreationEtablissement\": \"date_creation\",\n",
    "            \"trancheEffectifsEtablissement\": \"tranche_effectif_salarie\",\n",
    "            \"activitePrincipaleRegistreMetiersEtablissement\": \"activite_principale_registre_metier\",\n",
    "            \"etablissementSiege\": \"is_siege\",\n",
    "            \"numeroVoieEtablissement\": \"numero_voie\",\n",
    "            \"typeVoieEtablissement\": \"type_voie\",\n",
    "            \"libelleVoieEtablissement\": \"libelle_voie\",\n",
    "            \"codePostalEtablissement\": \"code_postal\",\n",
    "            \"libelleCedexEtablissement\": \"libelle_cedex\",\n",
    "            \"libelleCommuneEtablissement\": \"libelle_commune\",\n",
    "            \"codeCommuneEtablissement\": \"commune\",\n",
    "            \"complementAdresseEtablissement\": \"complement_adresse\",\n",
    "            \"complementAdresse2Etablissement\": \"complement_adresse_2\",\n",
    "            \"numeroVoie2Etablissement\": \"numero_voie_2\",\n",
    "            \"indiceRepetition2Etablissement\": \"indice_repetition_2\",\n",
    "            \"typeVoie2Etablissement\": \"type_voie_2\",\n",
    "            \"libelleVoie2Etablissement\": \"libelle_voie_2\",\n",
    "            \"codeCommune2Etablissement\": \"commune_2\",\n",
    "            \"libelleCommune2Etablissement\": \"libelle_commune_2\",\n",
    "            \"codeCedex2Etablissement\": \"cedex_2\",\n",
    "            \"libelleCedex2Etablissement\": \"libelle_cedex_2\",\n",
    "            \"codeCedexEtablissement\": \"cedex\",\n",
    "            \"dateDebut\": \"date_debut_activite\",\n",
    "            \"distributionSpecialeEtablissement\": \"distribution_speciale\",\n",
    "            \"distributionSpeciale2Etablissement\": \"distribution_speciale_2\",\n",
    "            \"etatAdministratifEtablissement\": \"etat_administratif_etablissement\",\n",
    "            \"enseigne1Etablissement\": \"enseigne_1\",\n",
    "            \"enseigne2Etablissement\": \"enseigne_2\",\n",
    "            \"enseigne3Etablissement\": \"enseigne_3\",\n",
    "            \"activitePrincipaleEtablissement\": \"activite_principale\",\n",
    "            \"indiceRepetitionEtablissement\": \"indice_repetition\",\n",
    "            \"denominationUsuelleEtablissement\": \"nom_commercial\",\n",
    "            \"libelleCommuneEtrangerEtablissement\": \"libelle_commune_etranger\",\n",
    "            \"codePaysEtrangerEtablissement\": \"code_pays_etranger\",\n",
    "            \"libellePaysEtrangerEtablissement\": \"libelle_pays_etranger\",\n",
    "            \"libelleCommuneEtranger2Etablissement\": \"libelle_commune_etranger_2\",\n",
    "            \"codePaysEtranger2Etablissement\": \"code_pays_etranger_2\",\n",
    "            \"libellePaysEtranger2Etablissement\": \"libelle_pays_etranger_2\",\n",
    "        }\n",
    "    )\n",
    "    df_dep.to_csv(DATA_DIR + \"geo_siret_\" + dep + \".csv\", index=False)"
   ]
  },
  {
   "cell_type": "code",
   "execution_count": null,
   "metadata": {},
   "outputs": [],
   "source": [
    "# Get geo data file paths\n",
    "geo_files = glob.glob(DATA_DIR + \"geo_siret*.csv\")"
   ]
  },
  {
   "cell_type": "code",
   "execution_count": null,
   "metadata": {},
   "outputs": [],
   "source": [
    "def adresse_complete(cols, row, adresse_2=False):\n",
    "    def get(x, default=None): \n",
    "        val = row[cols[x]]\n",
    "        if not val:\n",
    "            return default\n",
    "        return val\n",
    "    \n",
    "    col_list = [\"complement_adresse\", \"numero_voie\", \"indice_repetition\", \"type_voie\", \"libelle_voie\", \"distribution_speciale\"]\n",
    "    adresse = \"\"\n",
    "    for column in col_list:\n",
    "        col_label = f'{column}_2' if adresse_2 else column\n",
    "        \n",
    "        adresse = adresse + (\" \" + str(get(column)) if get(column) else \"\")\n",
    "        \n",
    "    if get(\"cedex\") is None:\n",
    "        if get(\"commune\") is None:\n",
    "            adresse =  adresse\n",
    "        else:\n",
    "            adresse = adresse + \" \" + str(get(\"commune\")) + \" \" + str(get(\"libelle_commune\"))\n",
    "    else:\n",
    "        adresse = adresse + \" \" + str(get(\"cedex\")) + \" \" + str(get(\"libelle_cedex\"))\n",
    "    etranger_list = [\"libelle_commune_etranger\", \"libelle_pays_etranger\"]\n",
    "    for column in etranger_list:\n",
    "        adresse = adresse + (\" \" + str(get(column)) if get(column) else \"\")\n",
    "    return adresse.strip()"
   ]
  },
  {
   "cell_type": "code",
   "execution_count": null,
   "metadata": {},
   "outputs": [],
   "source": [
    "def get_key(k, dico, default=0):\n",
    "    if(k in dico):\n",
    "        return dico[k]\n",
    "    \n",
    "    return default"
   ]
  },
  {
   "cell_type": "code",
   "execution_count": null,
   "metadata": {},
   "outputs": [],
   "source": [
    "def parse_etab(cols, row, all_unite_legale, index):\n",
    "    get = lambda x: row[cols[x]]\n",
    "\n",
    "    siren = get('siren')\n",
    "    unite_legale = get_key(siren, all_unite_legale, {})\n",
    "    \n",
    "    siret = get('siret')\n",
    "    etablissement = {}\n",
    "    etablissement[\"enseigne\"] = ''.join([\n",
    "                        get(\"enseigne_1\"),\n",
    "                        get(\"enseigne_2\"),\n",
    "                        get(\"enseigne_3\"),\n",
    "                        get(\"nom_commercial\"),\n",
    "                    ])\n",
    "    etablissement[\"adresse\"] = get(\"geo_adresse\")\n",
    "    etablissement[\"siret\"] = siret\n",
    "    \n",
    "    unite_legale[\"etablissements\"]={}\n",
    "    unite_legale[\"etablissements\"][siret] = etablissement\n",
    "    unite_legale[\"nombre_etablissements\"] = get_key(\"nombre_etablissements\", unite_legale, 0) + 1\n",
    "    \n",
    "    isSiege = get('is_siege')\n",
    "    if isSiege:\n",
    "        unite_legale['adresse_complete'] = adresse_complete(cols, row)\n",
    "        unite_legale['adresse_complete_2'] = adresse_complete(cols, row, adresse_2=True)\n",
    "    \n",
    "    is_etablissement_ouvert = get(\"etat_administratif_etablissement\") == \"A\"\n",
    "    \n",
    "    if is_etablissement_ouvert: \n",
    "        unite_legale[\"nombre_etablissements_ouverts\"] = get_key(\"nombre_etablissements_ouverts\", unite_legale, 0) + 1\n",
    "    \n",
    "    all_unite_legale[siren] = unite_legale\n",
    "    \n",
    "#    if(index % 10000 == 0):\n",
    "#        print(unite_legale)"
   ]
  },
  {
   "cell_type": "code",
   "execution_count": null,
   "metadata": {},
   "outputs": [],
   "source": [
    "%%time\n",
    "from csv import reader\n",
    "\n",
    "all_unite_legale = {}\n",
    "\n",
    "for geo_file in geo_files:\n",
    "    cols = {}\n",
    "    with open(geo_file, 'r') as read_obj:\n",
    "        # pass the file object to reader() to get the reader object\n",
    "        csv_reader = reader(read_obj)\n",
    "        # Iterate over each row in the csv using reader object\n",
    "        for index, row in enumerate(csv_reader):\n",
    "            if(index==0):\n",
    "                cols = { val: index for (index, val) in enumerate(row)}\n",
    "            else:\n",
    "                parse_etab(cols, row, all_unite_legale, index)\n",
    "            if(index % 1000000 == 0):\n",
    "                mem()"
   ]
  },
  {
   "cell_type": "code",
   "execution_count": null,
   "metadata": {},
   "outputs": [],
   "source": [
    "for unite_legale in all_unite_legale.values():\n",
    "    unite_legale[\"liste_enseigne\"] = [etab[\"enseigne\"] for etab in unite_legale[\"etablissements\"].values()]\n",
    "    unite_legale[\"liste_adresse\"] = [etab[\"adresse\"] for etab in unite_legale[\"etablissements\"].values()]"
   ]
  },
  {
   "cell_type": "code",
   "execution_count": null,
   "metadata": {},
   "outputs": [],
   "source": [
    "list(all_unite_legale.values())[0:5]"
   ]
  },
  {
   "cell_type": "markdown",
   "metadata": {},
   "source": [
    "# Unité Légale"
   ]
  },
  {
   "cell_type": "code",
   "execution_count": null,
   "metadata": {},
   "outputs": [],
   "source": [
    "from os.path import exists\n",
    "\n",
    "unite_file = DATA_DIR + \"unite_legales.csv\"\n",
    "\n",
    "unite_legale_file_exists = exists(unite_file)"
   ]
  },
  {
   "cell_type": "code",
   "execution_count": null,
   "metadata": {
    "tags": []
   },
   "outputs": [],
   "source": [
    "%%time\n",
    "\n",
    "# Import Stock Unite Legale data\n",
    "\n",
    "# same a etablissement we can reduce this to only the download time by scrapping pandas entirey and only saving csv on disk\n",
    "# I didnot do it as it requires to rewrite column names\n",
    "# should save ~1-2min\n",
    "\n",
    "if not unite_legale_file_exists:\n",
    "    df_unite_legale = pd.read_csv(\n",
    "        \"https://files.data.gouv.fr/insee-sirene/StockUniteLegale_utf8.zip\",\n",
    "        compression=\"zip\",\n",
    "        dtype=str,\n",
    "        usecols=[\n",
    "            \"siren\",\n",
    "            \"dateCreationUniteLegale\",\n",
    "            \"sigleUniteLegale\",\n",
    "            \"prenom1UniteLegale\",\n",
    "            \"identifiantAssociationUniteLegale\",\n",
    "            \"trancheEffectifsUniteLegale\",\n",
    "            \"dateDernierTraitementUniteLegale\",\n",
    "            \"categorieEntreprise\",\n",
    "            \"etatAdministratifUniteLegale\",\n",
    "            \"nomUniteLegale\",\n",
    "            \"nomUsageUniteLegale\",\n",
    "            \"denominationUniteLegale\",\n",
    "            \"categorieJuridiqueUniteLegale\",\n",
    "            \"activitePrincipaleUniteLegale\",\n",
    "            \"economieSocialeSolidaireUniteLegale\",\n",
    "        ],\n",
    "    )\n",
    "    # Rename columns\n",
    "    df_unite_legale = df_unite_legale.rename(\n",
    "        columns={\n",
    "            \"dateCreationUniteLegale\": \"date_creation_unite_legale\",\n",
    "            \"sigleUniteLegale\": \"sigle\",\n",
    "            \"prenom1UniteLegale\": \"prenom\",\n",
    "            \"trancheEffectifsUniteLegale\": \"tranche_effectif_salarie_unite_legale\",\n",
    "            \"dateDernierTraitementUniteLegale\": \"date_mise_a_jour_unite_legale\",\n",
    "            \"categorieEntreprise\": \"categorie_entreprise\",\n",
    "            \"etatAdministratifUniteLegale\":\"etat_administratif_unite_legale\",\n",
    "            \"nomUniteLegale\": \"nom\",\n",
    "            \"nomUsageUniteLegale\": \"nom_usage\",\n",
    "            \"denominationUniteLegale\": \"nom_raison_sociale\",\n",
    "            \"categorieJuridiqueUniteLegale\": \"nature_juridique_unite_legale\",\n",
    "            \"activitePrincipaleUniteLegale\": \"activite_principale_unite_legale\",\n",
    "            \"economieSocialeSolidaireUniteLegale\":\"economie_sociale_solidaire_unite_legale\",\n",
    "            \"identifiantAssociationUniteLegale\":\"identifiant_association_unite_legale\",\n",
    "        }\n",
    "    )\n",
    "    df_unite_legale.to_csv(unite_file, index=False)"
   ]
  },
  {
   "cell_type": "code",
   "execution_count": null,
   "metadata": {},
   "outputs": [],
   "source": [
    "df_unite_legale.head()"
   ]
  },
  {
   "cell_type": "code",
   "execution_count": null,
   "metadata": {},
   "outputs": [],
   "source": [
    "stats()"
   ]
  },
  {
   "cell_type": "markdown",
   "metadata": {},
   "source": [
    "\n",
    "### Data preprocessing"
   ]
  },
  {
   "cell_type": "code",
   "execution_count": null,
   "metadata": {
    "tags": []
   },
   "outputs": [],
   "source": [
    "sections_NAF = {\n",
    "\"01\":\"A\",\"02\":\"A\",\"03\":\"A\",\"05\":\"B\",\"06\":\"B\",\"07\":\"B\",\"08\":\"B\",\"09\":\"B\",\"10\":\"C\",\"11\":\"C\",\"12\":\"C\",\"13\":\"C\",\"14\":\"C\",\n",
    " \"15\":\"C\",\"16\":\"C\",\"17\":\"C\",\"18\":\"C\",\"19\":\"C\",\"20\":\"C\",\"21\":\"C\",\"22\":\"C\",\"23\":\"C\",\"24\":\"C\",\"25\":\"C\",\"26\":\"C\",\"27\":\"C\",\n",
    " \"28\":\"C\",\"29\":\"C\",\"30\":\"C\",\"31\":\"C\",\"32\":\"C\",\"33\":\"C\",\"35\":\"D\",\"36\":\"E\",\"37\":\"E\",\"38\":\"E\",\"39\":\"E\",\"41\":\"F\",\"42\":\"F\",\n",
    " \"43\":\"F\",\"45\":\"G\",\"46\":\"G\",\"47\":\"G\",\"49\":\"H\",\"50\":\"H\",\"51\":\"H\",\"52\":\"H\",\"53\":\"H\",\"55\":\"I\",\"56\":\"I\",\"58\":\"J\",\"59\":\"J\",\n",
    " \"60\":\"J\",\"61\":\"J\",\"62\":\"J\",\"63\":\"J\",\"64\":\"K\",\"65\":\"K\",\"66\":\"K\",\"68\":\"L\",\"69\":\"M\",\"70\":\"M\",\"71\":\"M\",\"72\":\"M\",\"73\":\"M\",\n",
    " \"74\":\"M\",\"75\":\"M\",\"77\":\"N\",\"78\":\"N\",\"79\":\"N\",\"80\":\"N\",\"81\":\"N\",\"82\":\"N\",\"84\":\"O\",\"85\":\"P\",\"86\":\"Q\",\"87\":\"Q\",\"88\":\"Q\",\n",
    " \"90\":\"R\",\"91\":\"R\",\"92\":\"R\",\"93\":\"R\",\"94\":\"S\",\"95\":\"S\",\"96\":\"S\",\"97\":\"T\",\"98\":\"T\",\"99\":\"U\"\n",
    "}"
   ]
  },
  {
   "cell_type": "code",
   "execution_count": null,
   "metadata": {},
   "outputs": [],
   "source": [
    "def nom_complet(cols, row):\n",
    "    def get(x, default=None): \n",
    "        val = row[cols[x]]\n",
    "        if not val:\n",
    "            return default\n",
    "        return val\n",
    "\n",
    "    is_auto_entrepreneur = get(\"nature_juridique_unite_legale\") == \"1000\"\n",
    "    \n",
    "    sigle = get(\"sigle\")\n",
    "    \n",
    "    if is_auto_entrepreneur:\n",
    "        prenom = get(\"prenom\")\n",
    "        nom = get(\"nom\")\n",
    "        nom_usage = get(\"nom_usage\", \" \")\n",
    "        formatted_nom_usage = \" \" + nom_usage.lower() if nom_usage else \"\"\n",
    "        formatted_sigle = \", \"+ sigle if sigle else ''\n",
    "        \n",
    "        if (prenom is None and nom is None):\n",
    "            return None\n",
    "        else:\n",
    "            return f'{prenom}{formatted_nom_usage} ({nom}{formatted_sigle})'.lower()\n",
    "    else:\n",
    "        nom_raison_sociale = get(\"nom_raison_sociale\")\n",
    "        \n",
    "        if nom_raison_sociale is None and sigle is None:\n",
    "            return None\n",
    "        else:\n",
    "            formatted_sigle = f' ({sigle})' if sigle else ''\n",
    "            return f'{nom_raison_sociale}{formatted_sigle}'.lower()"
   ]
  },
  {
   "cell_type": "code",
   "execution_count": null,
   "metadata": {},
   "outputs": [],
   "source": [
    "def parse_unite(cols, row, all_unite_legale, index):\n",
    "    def get(x, default=None): \n",
    "        val = row[cols[x]]\n",
    "        if not val:\n",
    "            return default\n",
    "        return val\n",
    "\n",
    "    siren = get('siren')\n",
    "    unite_legale = get_key(siren, all_unite_legale, {})\n",
    "    \n",
    "    unite_legale['nom_complet'] = nom_complet(cols, row)\n",
    "    activite_principale_unite_legale = get('activite_principale_unite_legale', '')\n",
    "    code_naf = activite_principale_unite_legale[:2]\n",
    "    unite_legale[\"section_activite_principale\"] = sections_NAF[code_naf] if code_naf in sections_NAF else None\n",
    "    \n",
    "    all_unite_legale[siren] = unite_legale\n",
    "    \n",
    "    if(index % 5000000 == 0):\n",
    "        stats()\n",
    "        print(index)"
   ]
  },
  {
   "cell_type": "code",
   "execution_count": null,
   "metadata": {},
   "outputs": [],
   "source": [
    "%%time\n",
    "\n",
    "with open(unite_file, 'r') as read_obj:\n",
    "    cols = {}\n",
    "    # pass the file object to reader() to get the reader object\n",
    "    csv_reader = reader(read_obj)\n",
    "    # Iterate over each row in the csv using reader object\n",
    "    for index, row in enumerate(csv_reader):\n",
    "        if(index==0):\n",
    "            cols = { val: index for (index, val) in enumerate(row)}\n",
    "        else:\n",
    "            parse_unite(cols, row, all_unite_legale, index)"
   ]
  },
  {
   "cell_type": "code",
   "execution_count": null,
   "metadata": {},
   "outputs": [],
   "source": [
    "list(all_unite_legale.values())[0:5]"
   ]
  },
  {
   "cell_type": "code",
   "execution_count": null,
   "metadata": {},
   "outputs": [],
   "source": [
    "len(list(all_unite_legale.values()))"
   ]
  },
  {
   "cell_type": "markdown",
   "metadata": {},
   "source": [
    "%%time\n",
    "# Merge geo files with above dataframe and add is_entrepreneur_individuel\n",
    "for geo_file in geo_files:\n",
    "    print(geo_file)\n",
    "    df_geo = pd.read_csv(geo_file, dtype=str)\n",
    "    df_inter = pd.merge(df_geo, df_unite_legale, on=\"siren\", how=\"left\")\n",
    "    df_inter2 = df_inter[df_inter[\"is_siege\"] == \"true\"]\n",
    "    df_inter2 = df_inter2.replace({np.nan: None})\n",
    "    df_inter2[\"concat_nom_adr_siren\"] = (\n",
    "        df_inter2[\"nom_complet\"]\n",
    "        + \" \"\n",
    "        + df_inter2[\"geo_adresse\"]\n",
    "        + \" \"\n",
    "        + df_inter2[\"siren\"]\n",
    "    )\n",
    "   \n",
    "    # df_inter2['concat_enseigne_adresse'] = df_inter2.apply(lambda x: set.union(x.liste_enseigne, x.liste_adresse), axis=1)\n",
    "    df_inter2[\"concat_enseigne_adresse\"] = (\n",
    "        df_inter2[\"liste_enseigne\"] + df_inter2[\"liste_adresse\"]\n",
    "    )\n",
    "    \n",
    "    df_inter2[\"is_entrepreneur_individuel\"] = df_inter2.apply(lambda x: True if x.nature_juridique_unite_legale in ['1', '10', '1000'] else False, axis=1) # entrepreneur individuel\n",
    "    df_inter2[\"coordonnees\"] = df_inter2.apply(lambda x: None if ((x.latitude is None) or (x.longitude is None)) else (x.latitude + \",\" + x.longitude) , axis=1)\n",
    "    df_inter2['nombre_etablissements_ouverts'] = df_inter2['nombre_etablissements_ouverts'].replace({np.nan: 0})\n",
    "    df_inter2['nombre_etablissements'] = df_inter2['nombre_etablissements'].replace({np.nan: 1})\n",
    "    df_inter2['nombre_etablissements'] = df_inter2['nombre_etablissements'].astype(int)\n",
    "    df_inter2['nombre_etablissements_ouverts'] = df_inter2['nombre_etablissements_ouverts'].astype(int)\n",
    "    df_inter2['departement'] = df_inter2.apply(lambda x: str(x.commune)[:3] if str(x.commune)[:2]==\"97\" else (None if x.commune is None else str(x.commune)[:2]), axis=1)\n",
    "    df_inter2.drop(columns='is_siege', axis=1, inplace=True)\n",
    "    df_inter2['adresse_etablissement'] = df_inter2.apply(lambda x: adresse_complete(x), axis=1)\n",
    "    df_inter2['adresse_etablissement_2'] = df_inter2.apply(lambda x: adresse_complete_2(x), axis=1)\n",
    "    df_inter2['is_entrepreneur_individuel'] = df_inter2['is_entrepreneur_individuel'].map({True: 'true', False: 'false'}) # Elastic only takes 'true' and 'false' as bool\n",
    "    df_inter2 = df_inter2.rename(\n",
    "        columns={\n",
    "            \"activite_principale\": \"activite_principale_siege\",\n",
    "            \"date_creation\": \"date_creation_siege\",\n",
    "            \"date_debut_activite\": \"date_debut_activite_siege\",\n",
    "            \"etat_administratif_etablissement\": \"etat_administratif_siege\",\n",
    "            \"siret\": \"siret_siege\",\n",
    "            \"tranche_effectif_salarie\": \"tranche_effectif_salarie_siege\",\n",
    "        }\n",
    "    )\n",
    "    df_inter2.drop(\n",
    "        columns=[\n",
    "            \"complement_adresse_2\", \"numero_voie_2\", \"indice_repetition_2\", \"type_voie_2\",\n",
    "            \"libelle_voie_2\", \"distribution_speciale_2\", \"cedex_2\", \"libelle_commune_2\",\n",
    "            \"commune_2\",\"libelle_cedex_2\",\"libelle_commune_etranger_2\", \"code_pays_etranger_2\", \"libelle_pays_etranger_2\"], axis=1, inplace=True)\n",
    "    '''\n",
    "    df_inter.to_csv(\n",
    "        OUTPUT_DATA_FOLDER + \"siret_\" + geo_file.replace(DATA_DIR + \"geo_siret_\", \"\"),\n",
    "        index=False,\n",
    "    )\n",
    "    '''\n",
    "    df_inter2.to_csv(\n",
    "        OUTPUT_DATA_FOLDER\n",
    "        + ELASTIC_INDEX\n",
    "        + \"_\"\n",
    "        + geo_file.replace(DATA_DIR + \"geo_siret_\", \"\"),\n",
    "        index=False,\n",
    "    )"
   ]
  },
  {
   "cell_type": "code",
   "execution_count": null,
   "metadata": {},
   "outputs": [],
   "source": [
    "%%time\n",
    "# df_unite_legale = pd.DataFrame(list(all_unite_legale.values()))\n",
    "mem()"
   ]
  },
  {
   "cell_type": "code",
   "execution_count": null,
   "metadata": {},
   "outputs": [],
   "source": [
    "# df_unite_legale.head()"
   ]
  },
  {
   "cell_type": "code",
   "execution_count": null,
   "metadata": {},
   "outputs": [],
   "source": [
    "len(all_unite_legale.values())"
   ]
  },
  {
   "cell_type": "code",
   "execution_count": null,
   "metadata": {},
   "outputs": [],
   "source": [
    "stats()"
   ]
  }
 ],
 "metadata": {
  "interpreter": {
   "hash": "19ece5f74f8baf7d074e990d308e7c75b7ac8b98c7c6e76faedd0c3526d006f2"
  },
  "kernelspec": {
   "display_name": "Python 3 (ipykernel)",
   "language": "python",
   "name": "python3"
  },
  "language_info": {
   "codemirror_mode": {
    "name": "ipython",
    "version": 3
   },
   "file_extension": ".py",
   "mimetype": "text/x-python",
   "name": "python",
   "nbconvert_exporter": "python",
   "pygments_lexer": "ipython3",
   "version": "3.8.9"
  }
 },
 "nbformat": 4,
 "nbformat_minor": 4
}
